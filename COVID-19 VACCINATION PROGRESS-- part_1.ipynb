{
 "cells": [
  {
   "cell_type": "code",
   "execution_count": 1,
   "metadata": {},
   "outputs": [],
   "source": [
    "from cs103 import *\n",
    "from typing import Optional\n",
    "\n",
    "TotalVaccinations = Optional[float]\n",
    "#interp. the total vaccinations\n",
    "#or None if there's no data\n",
    "\n",
    "TV_None = None\n",
    "TV1 = 0.0\n",
    "TV2 = 22302\n",
    "TV3 = 99.0\n",
    "\n",
    "@typecheck\n",
    "def fn_for_total_vaccinations(tv:TotalVaccinations)->...:\n",
    "    #template based on One of (2 cases) and Atonic Non-Distinct \n",
    "    if tv is None:\n",
    "        return ...\n",
    "    else:\n",
    "        return ...,(tv)"
   ]
  },
  {
   "cell_type": "code",
   "execution_count": 2,
   "metadata": {},
   "outputs": [
    {
     "name": "stdout",
     "output_type": "stream",
     "text": [
      "\u001b[92m3 of 3 tests passed\u001b[0m\n"
     ]
    }
   ],
   "source": [
    "@typecheck\n",
    "def total_vaccinations(tv:TotalVaccinations)->float:\n",
    "    \"\"\"\n",
    "    enter a TotalVaccinations if it is None,return 0\n",
    "    otherwise return TotalVaccinations\n",
    "    \"\"\"\n",
    "    #return 0.0\n",
    "    #template from TotalVaccinations\n",
    "    if tv is None:\n",
    "        return 0\n",
    "    else:\n",
    "        return tv\n",
    "start_testing()\n",
    "expect(total_vaccinations(None),0)\n",
    "expect(total_vaccinations(TV2),22302)\n",
    "expect(total_vaccinations(TV1),0.0)\n",
    "summary()"
   ]
  },
  {
   "cell_type": "code",
   "execution_count": 3,
   "metadata": {},
   "outputs": [],
   "source": [
    "PeopleVaccinated = Optional[float]\n",
    "#interp. number of people vaccinated\n",
    "#or None if there's no data\n",
    "\n",
    "PV_None = None\n",
    "PV1 = 0.0\n",
    "PV2 = 12878.0\n",
    "PV3 = 10000.0\n",
    "\n",
    "@typecheck\n",
    "def fn_for_people_vaccinated(pv:PeopleVaccinated)->...:\n",
    "    #template based on One of (2 cases) and Atonic Non-Distinct \n",
    "    if pv is None:\n",
    "        return ...\n",
    "    else:\n",
    "        return ...,(pv)"
   ]
  },
  {
   "cell_type": "code",
   "execution_count": 4,
   "metadata": {},
   "outputs": [
    {
     "name": "stdout",
     "output_type": "stream",
     "text": [
      "\u001b[92m3 of 3 tests passed\u001b[0m\n"
     ]
    }
   ],
   "source": [
    "@typecheck\n",
    "def people_vaccinated(pv:PeopleVaccinated)->float:\n",
    "    \"\"\"\n",
    "    enter a PeopleVaccinated if it is None,return 0\n",
    "    otherwise return PeopleVaccinated\n",
    "    \"\"\"\n",
    "    #return 0.0\n",
    "    #template from PeopleVaccinated\n",
    "    if pv is None:\n",
    "        return 0\n",
    "    else:\n",
    "        return pv\n",
    "start_testing()\n",
    "expect(people_vaccinated(None),0)\n",
    "expect(people_vaccinated(PV2),12878)\n",
    "expect(people_vaccinated(PV3),10000)\n",
    "summary()"
   ]
  },
  {
   "cell_type": "code",
   "execution_count": 5,
   "metadata": {},
   "outputs": [],
   "source": [
    "PeopleFullyVaccinated = Optional[float]\n",
    "#interp. number of people fully vaccinated\n",
    "#or None if there's no data\n",
    "\n",
    "PFV_None = None\n",
    "PFV1 = 0.0\n",
    "PFV2 = 8888.0\n",
    "PFV3 = 12300.0\n",
    "\n",
    "@typecheck\n",
    "def fn_for_people_fully_vaccinated(pfv:PeopleFullyVaccinated)->...:\n",
    "    #template based on One of (2 cases) and Atonic Non-Distinct \n",
    "    if pfv is None:\n",
    "        return ...\n",
    "    else:\n",
    "        return ...,(pfv)"
   ]
  },
  {
   "cell_type": "code",
   "execution_count": 6,
   "metadata": {},
   "outputs": [
    {
     "name": "stdout",
     "output_type": "stream",
     "text": [
      "\u001b[92m3 of 3 tests passed\u001b[0m\n"
     ]
    }
   ],
   "source": [
    "@typecheck\n",
    "def people_fully_vaccinated(pfv:PeopleFullyVaccinated)->float:\n",
    "    \"\"\"\n",
    "    enter a PeopleFullyVaccinated if it is None,return 0\n",
    "    otherwise return PeopleFullyVaccinated\n",
    "    \"\"\"\n",
    "    #return 0.0\n",
    "    #template from PeopleFullyVaccinated\n",
    "    if pfv is None:\n",
    "        return 0\n",
    "    else:\n",
    "        return pfv\n",
    "start_testing()\n",
    "expect(people_fully_vaccinated(None),0)\n",
    "expect(people_fully_vaccinated(PFV2),8888.0)\n",
    "expect(people_fully_vaccinated(PFV3),12300.0)\n",
    "summary()"
   ]
  },
  {
   "cell_type": "code",
   "execution_count": 7,
   "metadata": {},
   "outputs": [],
   "source": [
    "DailyVaccinationsRaw = Optional[float]\n",
    "#interp. daily vaccinations raw\n",
    "#or None if there's no data\n",
    "\n",
    "DVR_None = None\n",
    "DVR1 = 0.0\n",
    "DVR2 = 1000.0\n",
    "DVR3 = 78999.0\n",
    "\n",
    "@typecheck\n",
    "def fn_for_daily_vaccinations_raw(dvr:DailyVaccinationsRaw)->...:\n",
    "    #template based on One of (2 cases) and Atonic Non-Distinct \n",
    "    if dvr is None:\n",
    "        return ...\n",
    "    else:\n",
    "        return ...,(dvr)"
   ]
  },
  {
   "cell_type": "code",
   "execution_count": 8,
   "metadata": {},
   "outputs": [
    {
     "name": "stdout",
     "output_type": "stream",
     "text": [
      "\u001b[92m3 of 3 tests passed\u001b[0m\n"
     ]
    }
   ],
   "source": [
    "@typecheck\n",
    "def daily_vaccinations_raw(dvr:DailyVaccinationsRaw)->float:\n",
    "    \"\"\"\n",
    "    enter a DailyVaccinationsRaw if it is None,return 0\n",
    "    otherwise return DailyVaccinationsRaw\n",
    "    \"\"\"\n",
    "    #return 0.0\n",
    "    #template from DailyVaccinationsRaw\n",
    "    if dvr is None:\n",
    "        return 0\n",
    "    else:\n",
    "        return dvr\n",
    "start_testing()\n",
    "expect(daily_vaccinations_raw(None),0)\n",
    "expect(daily_vaccinations_raw(DVR2),1000.0)\n",
    "expect(daily_vaccinations_raw(DVR3),78999.0)\n",
    "summary()"
   ]
  },
  {
   "cell_type": "code",
   "execution_count": 9,
   "metadata": {},
   "outputs": [],
   "source": [
    "DailyVaccinations = Optional[float]\n",
    "#interp. daily vaccinations\n",
    "#or None if there's no data\n",
    "\n",
    "DV_None = None\n",
    "DV1 = 0.0\n",
    "DV2 = 1234.0\n",
    "DV3 = 3464.0\n",
    "\n",
    "@typecheck\n",
    "def fn_for_daily_vaccinations(dv:DailyVaccinations)->...:\n",
    "    #template based on One of (2 cases) and Atonic Non-Distinct \n",
    "    if dv is None:\n",
    "        return ...\n",
    "    else:\n",
    "        return ...,(dv)"
   ]
  },
  {
   "cell_type": "code",
   "execution_count": 10,
   "metadata": {},
   "outputs": [
    {
     "name": "stdout",
     "output_type": "stream",
     "text": [
      "\u001b[92m3 of 3 tests passed\u001b[0m\n"
     ]
    }
   ],
   "source": [
    "@typecheck\n",
    "def daily_vaccinations(dv:DailyVaccinations)->float:\n",
    "    \"\"\"\n",
    "    enter a DailyVaccinations if it is None,return 0\n",
    "    otherwise return DailyVaccinations\n",
    "    \"\"\"\n",
    "    #return 0.0\n",
    "    #template from DailyVaccinations\n",
    "    if dv is None:\n",
    "        return 0\n",
    "    else:\n",
    "        return dv\n",
    "start_testing()\n",
    "expect(daily_vaccinations(None),0)\n",
    "expect(daily_vaccinations(DV2),1234.0)\n",
    "expect(daily_vaccinations(DV3),3464.0)\n",
    "summary()"
   ]
  },
  {
   "cell_type": "code",
   "execution_count": 11,
   "metadata": {},
   "outputs": [],
   "source": [
    "TotalVaccinationsPerHundred = Optional[float]\n",
    "#interp. total vaccinations per hundred\n",
    "#or None if there's no data\n",
    "\n",
    "TVPH_None = None\n",
    "TVPH1 = 0.0\n",
    "TVPH2 = 7879.0\n",
    "TVPH3 = 33738.0\n",
    "\n",
    "@typecheck\n",
    "def fn_for_total_vaccinations_per_hundred(tvph:TotalVaccinationsPerHundred)->...:\n",
    "    #template based on One of (2 cases) and Atonic Non-Distinct \n",
    "    if tvph is None:\n",
    "        return ...\n",
    "    else:\n",
    "        return ...,(tvph)"
   ]
  },
  {
   "cell_type": "code",
   "execution_count": 12,
   "metadata": {},
   "outputs": [
    {
     "name": "stdout",
     "output_type": "stream",
     "text": [
      "\u001b[92m3 of 3 tests passed\u001b[0m\n"
     ]
    }
   ],
   "source": [
    "@typecheck\n",
    "def total_vaccinations_per_hundred(tvph:TotalVaccinationsPerHundred)->float:\n",
    "    \"\"\"\n",
    "    enter a TotalVaccinationsPerHundred if it is None,return 0\n",
    "    otherwise return TotalVaccinationsPerHundred\n",
    "    \"\"\"\n",
    "    #return 0.0\n",
    "    #template from TotalVaccinationsPerHundred\n",
    "    if tvph is None:\n",
    "        return 0\n",
    "    else:\n",
    "        return tvph\n",
    "start_testing()\n",
    "expect(total_vaccinations_per_hundred(None),0)\n",
    "expect(total_vaccinations_per_hundred(TVPH2),7879.0)\n",
    "expect(total_vaccinations_per_hundred(TVPH3),33738.0)\n",
    "summary()"
   ]
  },
  {
   "cell_type": "code",
   "execution_count": 13,
   "metadata": {},
   "outputs": [],
   "source": [
    "PeopleVaccinatedPerHundred = Optional[float]\n",
    "#interp. number of people vaccinated per hundred\n",
    "#or None if there's no data\n",
    "\n",
    "PVH_None = None\n",
    "PVH1 = 0.0\n",
    "PVH2 = 89759.0\n",
    "PVH3 = 11134.0\n",
    "\n",
    "@typecheck\n",
    "def fn_for_people_vaccinated_per_hundred(pvh:PeopleVaccinatedPerHundred)->...:\n",
    "    #template based on One of (2 cases) and Atonic Non-Distinct \n",
    "    if pvh is None:\n",
    "        return ...\n",
    "    else:\n",
    "        return ...,(pvh)"
   ]
  },
  {
   "cell_type": "code",
   "execution_count": 14,
   "metadata": {},
   "outputs": [
    {
     "name": "stdout",
     "output_type": "stream",
     "text": [
      "\u001b[92m3 of 3 tests passed\u001b[0m\n"
     ]
    }
   ],
   "source": [
    "@typecheck\n",
    "def people_vaccinated_per_hundred(pvh:PeopleVaccinatedPerHundred)->float:\n",
    "    \"\"\"\n",
    "    enter a PeopleVaccinatedPerHundred if it is None,return 0\n",
    "    otherwise return PeopleVaccinatedPerHundred\n",
    "    \"\"\"\n",
    "    #return 0.0\n",
    "    #template from PeopleVaccinatedPerHundred\n",
    "    if pvh is None:\n",
    "        return 0\n",
    "    else:\n",
    "        return pvh\n",
    "start_testing()\n",
    "expect(people_vaccinated_per_hundred(None),0)\n",
    "expect(people_vaccinated_per_hundred(PVH2),89759.0)\n",
    "expect(people_vaccinated_per_hundred(PVH3),11134.0)\n",
    "summary()"
   ]
  },
  {
   "cell_type": "code",
   "execution_count": 15,
   "metadata": {},
   "outputs": [],
   "source": [
    "PeopleFullyVaccinatedPerHundred = Optional[float]\n",
    "#interp. people fully vaccinated per hundred\n",
    "#or None if there's no data\n",
    "\n",
    "PFVH_None = None\n",
    "PFVH1 = 0.0\n",
    "PFVH2 = 89759.0\n",
    "PFVH3 = 11134.0\n",
    "\n",
    "@typecheck\n",
    "def fn_for_people_vaccinated_per_hundred(pfvh:PeopleFullyVaccinatedPerHundred)->...:\n",
    "    #template based on One of (2 cases) and Atonic Non-Distinct \n",
    "    if pfvh is None:\n",
    "        return ...\n",
    "    else:\n",
    "        return ...,(pfvh)"
   ]
  },
  {
   "cell_type": "code",
   "execution_count": 16,
   "metadata": {},
   "outputs": [
    {
     "name": "stdout",
     "output_type": "stream",
     "text": [
      "\u001b[92m3 of 3 tests passed\u001b[0m\n"
     ]
    }
   ],
   "source": [
    "@typecheck\n",
    "def people_fully_vaccinated_per_hundred(pfvh:PeopleFullyVaccinatedPerHundred)->float:\n",
    "    \"\"\"\n",
    "    enter a PeopleFullyVaccinatedPerHundred if it is None,return 0\n",
    "    otherwise return PeopleFullyVaccinatedPerHundred\n",
    "    \"\"\"\n",
    "    #return 0.0\n",
    "    #template from PeopleFullyVaccinatedPerHundred\n",
    "    if pfvh is None:\n",
    "        return 0\n",
    "    else:\n",
    "        return pfvh\n",
    "start_testing()\n",
    "expect(people_vaccinated_per_hundred(None),0)\n",
    "expect(people_vaccinated_per_hundred(PFVH2),89759.0)\n",
    "expect(people_vaccinated_per_hundred(PFVH3),11134.0)\n",
    "summary()"
   ]
  },
  {
   "cell_type": "code",
   "execution_count": 17,
   "metadata": {},
   "outputs": [],
   "source": [
    "DailyVaccinationsPerMillion = Optional[float]\n",
    "#interp. daily vaccinations per million\n",
    "#or None if there's no data\n",
    "\n",
    "DVM_None = None\n",
    "DVM1 = 0.0\n",
    "DVM2 = 1453.0\n",
    "DVM3 = 2347.0\n",
    "\n",
    "@typecheck\n",
    "def fn_for_daily_vaccinations_per_million(dvm:DailyVaccinationsPerMillion)->...:\n",
    "    #template based on One of (2 cases) and Atonic Non-Distinct \n",
    "    if dvm is None:\n",
    "        return ...\n",
    "    else:\n",
    "        return ...,(dvm)"
   ]
  },
  {
   "cell_type": "code",
   "execution_count": 18,
   "metadata": {},
   "outputs": [
    {
     "name": "stdout",
     "output_type": "stream",
     "text": [
      "\u001b[92m3 of 3 tests passed\u001b[0m\n"
     ]
    }
   ],
   "source": [
    "@typecheck\n",
    "def daily_vaccinations_per_million(dvm:DailyVaccinationsPerMillion)->float:\n",
    "    \"\"\"\n",
    "    enter a DailyVaccinationsPerMillion if it is None,return 0\n",
    "    otherwise return DailyVaccinationsPerMillion\n",
    "    \"\"\"\n",
    "    #return 0.0\n",
    "    #template from DailyVaccinationsPerMillion\n",
    "    if dvm is None:\n",
    "        return 0\n",
    "    else:\n",
    "        return dvm\n",
    "start_testing()\n",
    "expect(daily_vaccinations_per_million(None),0)\n",
    "expect(daily_vaccinations_per_million(DVM2),1453.0)\n",
    "expect(daily_vaccinations_per_million(DVM3),2347.0)\n",
    "summary()"
   ]
  },
  {
   "cell_type": "code",
   "execution_count": 19,
   "metadata": {},
   "outputs": [],
   "source": [
    "from cs103 import *\n",
    "from typing import NamedTuple, List\n",
    "import csv\n",
    "\n",
    "Country = NamedTuple(\"Country\",[('name',str),\n",
    "                                ('iso_code',str),\n",
    "                                ('date',str),\n",
    "                                ('total_vaccinations',TotalVaccinations),\n",
    "                                ('people_vaccinated',PeopleVaccinated),\n",
    "                                ('people_fully_vaccinated',PeopleFullyVaccinated),\n",
    "                                ('daily_vaccinations_raw',DailyVaccinationsRaw),\n",
    "                                ('daily_vaccinations',DailyVaccinations),\n",
    "                                ('total_vaccinations_per_hundred',TotalVaccinationsPerHundred),\n",
    "                                ('people_vaccinated_per_hundred',PeopleVaccinatedPerHundred),\n",
    "                                ('people_fully_vaccinated_per_hundred',PeopleFullyVaccinatedPerHundred),\n",
    "                                ('daily_vaccinations_per_million',DailyVaccinationsPerMillion)])\n",
    "#interp. contry's name, iso code, date, total vaccinations, people fully vaccinated, daily vaccinations raw, daily vaccinations, total vaccinations per hundred, people vaccinated per hundred, people fully vaccinated per hundred, daily vaccinations per million\n",
    "Afghanistan = Country(\"Afghanistan\",\"AFG\",\"2021-07-24\",1171064.0,861336.0,None,None,13476.0,3.01,2.21,None,346.0)\n",
    "Andorra = Country(\"Andorra\",\"AND\",\"2021-01-25\",576.0,576.0,None,None,None,0.75,0.75,None,None)\n",
    "Egypt = Country(\"Egypt\",\"EGY\",\"2021-07-26\",5337506.0,3697974.0,1639532.0,32805.0,21064.0,5.22,3.61,1.6,206.0)\n",
    "Chad = Country(\"Chad\",\"TCD\",\"2021-07-20\",None,None,None,None,660.0,None,None,None,40.0)\n",
    "Chile = Country(\"Chile\",\"CHL\",\"2021-07-24\",25337393.0,13772232.0,12068193.0,33269.0,81523.0,132.54,72.04,63.13,4265.0)\n",
    "China = Country(\"China\",\"CHN\",\"2021-07-26\",1565872000.0,None,None,15604000.0,14079429.0,108.79,None,None,9782.0)\n",
    "UnitedKingdom = Country(\"United Kingdom\",\"GBR\",\"2021-07-25\",83876595.0,46589211.0,37287384.0,142507.0,208976.0,123.56,68.63,54.93,3078.0)\n",
    "UnitedStates = Country(\"United States\",\"USA\",\"2021-07-26\",342212051.0,188729282.0,163173366.0,393083.0,566374.0,102.32,56.43,48.79,1693.0)\n",
    "Zimbabwe = Country(\"Zimbabwe\",\"ZWE\",\"2021-07-25\",2127402.0,1447342.0,680060.0,10738.0,48838.0,14.31,9.74,4.58,3286.0)\n",
    "\n",
    "@typecheck\n",
    "#template based on compound(12 fields)\n",
    "def fn_for_country(c: Country)->...:\n",
    "    return ...,(c.name,\n",
    "                c.iso_code,\n",
    "                c.date,\n",
    "                c.total_vaccinations,\n",
    "                c.people_vaccinated,\n",
    "                c.people_fully_vaccinated,\n",
    "                c.daily_vaccinations_raw,\n",
    "                c.daily_vaccinations,\n",
    "                c.total_vaccinations_per_hundred,\n",
    "                c.people_vaccinated_per_hundred,\n",
    "                c.people_fully_vaccinated_per_hundred,\n",
    "                c.daily_vaccinations_per_million)\n",
    "\n",
    "\n",
    "# List[Country]\n",
    "# interp. a list of Country\n",
    "\n",
    "LOC0 = []\n",
    "LOC1 = [Afghanistan,Andorra,Egypt]\n",
    "LOC2 = [Chad,Chile]\n",
    "LOC3 = [China,UnitedKingdom,UnitedStates,Zimbabwe]\n",
    "\n",
    "@typecheck\n",
    "#template based on arbitrary-sized, and the reference rule\n",
    "def fn_for_loc(loc: List[Country]) -> ...:\n",
    "    #description for accumulator\n",
    "    acc = ... #type:...\n",
    "    for c in loc:\n",
    "        acc = ...,(fn_for_country(c),acc)\n",
    "    return ...,(acc)\n"
   ]
  },
  {
   "cell_type": "markdown",
   "metadata": {},
   "source": [
    "# Read Function"
   ]
  },
  {
   "cell_type": "code",
   "execution_count": 20,
   "metadata": {},
   "outputs": [],
   "source": [
    "@typecheck\n",
    "def read(filename: str) -> List[Country]:\n",
    "    \"\"\"    \n",
    "    reads information from the specified file and returns a list of Country\n",
    "    \"\"\"\n",
    "    #return [] \n",
    "    # Template from HtDAP\n",
    "    # loc contains the result so far\n",
    "    loc = [] # type: List[Country]\n",
    "\n",
    "    with open(filename) as csvfile:\n",
    "        \n",
    "        reader = csv.reader(csvfile)\n",
    "        next(reader)\n",
    "\n",
    "        for row in reader:\n",
    "            c = Country(row[0],row[1],row[2],parse_float(row[3]),parse_float(row[4]),parse_float(row[5]),parse_float(row[6]),parse_float(row[7]),parse_float(row[8]),parse_float(row[9]),parse_float(row[10]),parse_float(row[11]))\n",
    "            loc.append(c)\n",
    "    \n",
    "    return loc"
   ]
  },
  {
   "cell_type": "code",
   "execution_count": 21,
   "metadata": {},
   "outputs": [],
   "source": [
    "CompleteCountry = NamedTuple(\"CompleteCountry\",[('name',str),\n",
    "                                                ('iso_code',str),\n",
    "                                                ('date',str),\n",
    "                                                ('total_vaccinations',float),\n",
    "                                                ('people_vaccinated',float),\n",
    "                                                ('people_fully_vaccinated',float),\n",
    "                                                ('daily_vaccinations_raw',float),\n",
    "                                                ('daily_vaccinations',float),\n",
    "                                                ('total_vaccinations_per_hundred',float),\n",
    "                                                ('people_vaccinated_per_hundred',float),\n",
    "                                                ('people_fully_vaccinated_per_hundred',float),\n",
    "                                                ('daily_vaccinations_per_million',float)])\n",
    "#interp. contry's name, iso code, date, total vaccinations, people fully vaccinated, daily vaccinations raw, daily vaccinations, total vaccinations per hundred, people vaccinated per hundred, people fully vaccinated per hundred, daily vaccinations per million\n",
    "CAfghanistan = CompleteCountry(\"Afghanistan\",\"AFG\",\"2021-07-24\",1171064.0,861336.0,0,0,13476.0,3.01,2.21,0,346.0)\n",
    "CAndorra = CompleteCountry(\"Andorra\",\"AND\",\"2021-01-25\",576.0,576.0,0,0,0,0.75,0.75,0,0)\n",
    "CEgypt = CompleteCountry(\"Egypt\",\"EGY\",\"2021-07-26\",5337506.0,3697974.0,1639532.0,32805.0,21064.0,5.22,3.61,1.6,206.0)\n",
    "CChad = CompleteCountry(\"Chad\",\"TCD\",\"2021-07-20\",0,0,0,0,660.0,0,0,0,40.0)\n",
    "CChile = CompleteCountry(\"Chile\",\"CHL\",\"2021-07-24\",25337393.0,13772232.0,12068193.0,33269.0,81523.0,132.54,72.04,63.13,4265.0)\n",
    "CChina = CompleteCountry(\"China\",\"CHN\",\"2021-07-26\",1565872000.0,0,0,15604000.0,14079429.0,108.79,0,0,9782.0)\n",
    "CUnitedKingdom = CompleteCountry(\"United Kingdom\",\"GBR\",\"2021-07-25\",83876595.0,46589211.0,37287384.0,142507.0,208976.0,123.56,68.63,54.93,3078.0)\n",
    "CUnitedStates = CompleteCountry(\"United States\",\"USA\",\"2021-07-26\",342212051.0,188729282.0,163173366.0,393083.0,566374.0,102.32,56.43,48.79,1693.0)\n",
    "CZimbabwe = CompleteCountry(\"Zimbabwe\",\"ZWE\",\"2021-07-25\",2127402.0,1447342.0,680060.0,10738.0,48838.0,14.31,9.74,4.58,3286.0)\n",
    "\n",
    "@typecheck\n",
    "#template based on compound(12 fields)\n",
    "def fn_for_complete_country(cc: CompleteCountry)->...:\n",
    "    return ...,(cc.name,\n",
    "                cc.iso_code,\n",
    "                cc.date,\n",
    "                cc.total_vaccinations,\n",
    "                cc.people_vaccinated,\n",
    "                cc.people_fully_vaccinated,\n",
    "                cc.daily_vaccinations_raw,\n",
    "                cc.daily_vaccinations,\n",
    "                cc.total_vaccinations_per_hundred,\n",
    "                cc.people_vaccinated_per_hundred,\n",
    "                cc.people_fully_vaccinated_per_hundred,\n",
    "                cc.daily_vaccinations_per_million)\n",
    "\n",
    "# List[CompleteCountry]\n",
    "# interp. a list of Country with complete data\n",
    "\n",
    "LOCC0 = []\n",
    "LOCC1 = [CAfghanistan,CAndorra,CEgypt]\n",
    "LOCC2 = [CChad,CChile]\n",
    "LOCC3 = [CChina,CUnitedKingdom,CUnitedStates,CZimbabwe]\n",
    "\n",
    "@typecheck\n",
    "#template based on arbitrary-sized, and the reference rule\n",
    "def fn_for_locc(locc: List[CompleteCountry]) -> ...:\n",
    "    #description for accumulator\n",
    "    acc = ... #type:...\n",
    "    for cc in locc:\n",
    "        acc = ...,(fn_for_complete_country(cc),acc)\n",
    "    return ...,(acc)"
   ]
  },
  {
   "cell_type": "code",
   "execution_count": 22,
   "metadata": {},
   "outputs": [
    {
     "name": "stdout",
     "output_type": "stream",
     "text": [
      "\u001b[92m3 of 3 tests passed\u001b[0m\n"
     ]
    }
   ],
   "source": [
    "@typecheck\n",
    "def country_with_compl_data(loc:List[Country]) -> List[CompleteCountry]:\n",
    "    \"\"\"\n",
    "    enter a list of Country, return a list of Country with complete data(None->0)\n",
    "    \"\"\"\n",
    "    #return []\n",
    "    #template from List[Country]\n",
    "    #template based on arbitrary-sized, and the reference rule\n",
    "    #acc contains the list of Country with complete data(None->0)\n",
    "    acc = [] #type:list\n",
    "    for c in loc:\n",
    "        fna = total_vaccinations(c.total_vaccinations)\n",
    "        fnb = people_vaccinated(c.people_vaccinated)\n",
    "        fnc = people_fully_vaccinated(c.people_fully_vaccinated)\n",
    "        fnd = daily_vaccinations_raw(c.daily_vaccinations_raw)\n",
    "        fne = daily_vaccinations(c.daily_vaccinations)\n",
    "        fnf = total_vaccinations_per_hundred(c.total_vaccinations_per_hundred)\n",
    "        fng = people_vaccinated_per_hundred(c.people_vaccinated_per_hundred)\n",
    "        fnh = people_fully_vaccinated_per_hundred(c.people_fully_vaccinated_per_hundred)\n",
    "        fni = daily_vaccinations_per_million(c.daily_vaccinations_per_million)\n",
    "        ccountry = CompleteCountry(c.name,c.iso_code,c.date,fna,fnb,fnc,fnd,fne,fnf,fng,fnh,fni)\n",
    "        acc.append(ccountry)\n",
    "    return acc\n",
    "start_testing()\n",
    "expect(country_with_compl_data(LOC1),LOCC1)\n",
    "expect(country_with_compl_data(LOC2),LOCC2)\n",
    "expect(country_with_compl_data(LOC3),LOCC3)\n",
    "\n",
    "summary()"
   ]
  },
  {
   "cell_type": "markdown",
   "metadata": {},
   "source": [
    "# Helper Functions"
   ]
  },
  {
   "cell_type": "code",
   "execution_count": 23,
   "metadata": {},
   "outputs": [
    {
     "name": "stdout",
     "output_type": "stream",
     "text": [
      "\u001b[92m3 of 3 tests passed\u001b[0m\n"
     ]
    }
   ],
   "source": [
    "#These ten countries have been chosen based on total population:\n",
    "#(data from: https://worldpopulationreview.com/countries\n",
    "# data source: United Nation)\n",
    "# the ten country have the largest population in the world\n",
    "#[\"China\",\"India\",\"United States\",\"Indonesia\",\"Pakistan\",\"Brazil\",\"Nigeria\",\"Bangladesh\",\"Russia\",\"Mexico\"]\n",
    "\n",
    "@typecheck\n",
    "def read_specific_country1(cc:CompleteCountry)->bool:\n",
    "    \"\"\"\n",
    "    enter a country,return the data of a specific country\n",
    "    \"\"\"\n",
    "    #return 0.0\n",
    "    #template from CompleteCountry\n",
    "    return cc.name == \"China\"\n",
    "start_testing()\n",
    "expect(read_specific_country1(CAfghanistan),False)\n",
    "expect(read_specific_country1(CEgypt),False)\n",
    "expect(read_specific_country1(CChina),True)\n",
    "\n",
    "summary()"
   ]
  },
  {
   "cell_type": "code",
   "execution_count": 24,
   "metadata": {},
   "outputs": [
    {
     "name": "stdout",
     "output_type": "stream",
     "text": [
      "\u001b[92m3 of 3 tests passed\u001b[0m\n"
     ]
    }
   ],
   "source": [
    "@typecheck\n",
    "def read_specific_country2(cc:CompleteCountry)->bool:\n",
    "    \"\"\"\n",
    "    enter a list of country,return the data of a specific country\n",
    "\n",
    "    \"\"\"\n",
    "    #return 0.0\n",
    "    #template from CompleteCountry\n",
    "    return cc.name == \"India\"\n",
    "\n",
    "start_testing()\n",
    "expect(read_specific_country2(CAfghanistan),False)\n",
    "expect(read_specific_country2(CEgypt),False)\n",
    "expect(read_specific_country2(CChina),False)\n",
    "\n",
    "summary()"
   ]
  },
  {
   "cell_type": "code",
   "execution_count": 25,
   "metadata": {},
   "outputs": [
    {
     "name": "stdout",
     "output_type": "stream",
     "text": [
      "\u001b[92m3 of 3 tests passed\u001b[0m\n"
     ]
    }
   ],
   "source": [
    "@typecheck\n",
    "def read_specific_country3(cc:CompleteCountry)->bool:\n",
    "    \"\"\"\n",
    "    enter a list of country,return the data of a specific country\n",
    "\n",
    "    \"\"\"\n",
    "    #return 0.0\n",
    "    #template from CompleteCountry\n",
    "    return cc.name == \"United States\"\n",
    "\n",
    "start_testing()\n",
    "expect(read_specific_country3(CAfghanistan),False)\n",
    "expect(read_specific_country3(CUnitedStates),True)\n",
    "expect(read_specific_country3(CChina),False)\n",
    "\n",
    "summary()"
   ]
  },
  {
   "cell_type": "code",
   "execution_count": 26,
   "metadata": {},
   "outputs": [
    {
     "name": "stdout",
     "output_type": "stream",
     "text": [
      "\u001b[92m3 of 3 tests passed\u001b[0m\n"
     ]
    }
   ],
   "source": [
    "@typecheck\n",
    "def read_specific_country4(cc:CompleteCountry)->bool:\n",
    "    \"\"\"\n",
    "    enter a list of country,return the data of a specific country\n",
    "\n",
    "    \"\"\"\n",
    "    #return 0.0\n",
    "    #template from CompleteCountry\n",
    "    return cc.name == \"Indonesia\"\n",
    "\n",
    "start_testing()\n",
    "expect(read_specific_country4(CAfghanistan),False)\n",
    "expect(read_specific_country4(CUnitedStates),False)\n",
    "expect(read_specific_country4(CChina),False)\n",
    "\n",
    "summary()"
   ]
  },
  {
   "cell_type": "code",
   "execution_count": 27,
   "metadata": {},
   "outputs": [
    {
     "name": "stdout",
     "output_type": "stream",
     "text": [
      "\u001b[92m3 of 3 tests passed\u001b[0m\n"
     ]
    }
   ],
   "source": [
    "@typecheck\n",
    "def read_specific_country5(cc:CompleteCountry)->bool:\n",
    "    \"\"\"\n",
    "    enter a list of country,return the data of a specific country\n",
    "\n",
    "    \"\"\"\n",
    "    #return 0.0\n",
    "    #template from CompleteCountry\n",
    "    return cc.name == \"Pakistan\"\n",
    "\n",
    "start_testing()\n",
    "expect(read_specific_country5(CAfghanistan),False)\n",
    "expect(read_specific_country5(CUnitedStates),False)\n",
    "expect(read_specific_country5(CChina),False)\n",
    "\n",
    "summary()"
   ]
  },
  {
   "cell_type": "code",
   "execution_count": 28,
   "metadata": {},
   "outputs": [
    {
     "name": "stdout",
     "output_type": "stream",
     "text": [
      "\u001b[92m3 of 3 tests passed\u001b[0m\n"
     ]
    }
   ],
   "source": [
    "@typecheck\n",
    "def read_specific_country6(cc:CompleteCountry)->bool:\n",
    "    \"\"\"\n",
    "    enter a list of country,return the data of a specific country\n",
    "\n",
    "    \"\"\"\n",
    "    #return 0.0\n",
    "    #template from CompleteCountry\n",
    "    return cc.name == \"Brazil\"\n",
    "\n",
    "start_testing()\n",
    "expect(read_specific_country6(CAfghanistan),False)\n",
    "expect(read_specific_country6(CUnitedStates),False)\n",
    "expect(read_specific_country6(CChina),False)\n",
    "\n",
    "summary()"
   ]
  },
  {
   "cell_type": "code",
   "execution_count": 29,
   "metadata": {},
   "outputs": [
    {
     "name": "stdout",
     "output_type": "stream",
     "text": [
      "\u001b[92m3 of 3 tests passed\u001b[0m\n"
     ]
    }
   ],
   "source": [
    "@typecheck\n",
    "def read_specific_country7(cc:CompleteCountry)->bool:\n",
    "    \"\"\"\n",
    "    enter a list of country,return the data of a specific country\n",
    "\n",
    "    \"\"\"\n",
    "    #return 0.0\n",
    "    #template from CompleteCountry\n",
    "    return cc.name == \"Nigeria\"\n",
    "\n",
    "start_testing()\n",
    "expect(read_specific_country7(CAfghanistan),False)\n",
    "expect(read_specific_country7(CUnitedStates),False)\n",
    "expect(read_specific_country7(CChina),False)\n",
    "\n",
    "summary()"
   ]
  },
  {
   "cell_type": "code",
   "execution_count": 30,
   "metadata": {},
   "outputs": [
    {
     "name": "stdout",
     "output_type": "stream",
     "text": [
      "\u001b[92m3 of 3 tests passed\u001b[0m\n"
     ]
    }
   ],
   "source": [
    "@typecheck\n",
    "def read_specific_country8(cc:CompleteCountry)->bool:\n",
    "    \"\"\"\n",
    "    enter a list of country,return the data of a specific country\n",
    "\n",
    "    \"\"\"\n",
    "    #return 0.0\n",
    "    #template from CompleteCountry\n",
    "    return cc.name == \"Bangladesh\"\n",
    "\n",
    "start_testing()\n",
    "expect(read_specific_country8(CAfghanistan),False)\n",
    "expect(read_specific_country8(CUnitedStates),False)\n",
    "expect(read_specific_country8(CChina),False)\n",
    "\n",
    "summary()"
   ]
  },
  {
   "cell_type": "code",
   "execution_count": 31,
   "metadata": {},
   "outputs": [
    {
     "name": "stdout",
     "output_type": "stream",
     "text": [
      "\u001b[92m3 of 3 tests passed\u001b[0m\n"
     ]
    }
   ],
   "source": [
    "@typecheck\n",
    "def read_specific_country9(cc:CompleteCountry)->bool:\n",
    "    \"\"\"\n",
    "    enter a list of country,return the data of a specific country\n",
    "\n",
    "    \"\"\"\n",
    "    #return 0.0\n",
    "    #template from CompleteCountry\n",
    "    return cc.name == \"Russia\"\n",
    "\n",
    "start_testing()\n",
    "expect(read_specific_country5(CAfghanistan),False)\n",
    "expect(read_specific_country5(CUnitedStates),False)\n",
    "expect(read_specific_country5(CChina),False)\n",
    "\n",
    "summary()"
   ]
  },
  {
   "cell_type": "code",
   "execution_count": 32,
   "metadata": {},
   "outputs": [
    {
     "name": "stdout",
     "output_type": "stream",
     "text": [
      "\u001b[92m3 of 3 tests passed\u001b[0m\n"
     ]
    }
   ],
   "source": [
    "@typecheck\n",
    "def read_specific_country10(cc:CompleteCountry)->bool:\n",
    "    \"\"\"\n",
    "    enter a list of country,return the data of a specific country\n",
    "\n",
    "    \"\"\"\n",
    "    #return 0.0\n",
    "    #template from CompleteCountry\n",
    "    return cc.name == \"Mexico\"\n",
    "start_testing()\n",
    "expect(read_specific_country5(CAfghanistan),False)\n",
    "expect(read_specific_country5(CUnitedStates),False)\n",
    "expect(read_specific_country5(CChina),False)\n",
    "\n",
    "summary()"
   ]
  },
  {
   "cell_type": "code",
   "execution_count": 33,
   "metadata": {},
   "outputs": [],
   "source": [
    "@typecheck\n",
    "def cc_daily_vaccinations(cc:CompleteCountry)->float:\n",
    "    \"\"\"\n",
    "    enter a country,return c.daily_vaccinations\n",
    "    \"\"\"\n",
    "    #return 0.0\n",
    "    #template from CompleteCountry\n",
    "    return cc.daily_vaccinations"
   ]
  },
  {
   "cell_type": "markdown",
   "metadata": {},
   "source": [
    "# Analyze & Main Function"
   ]
  },
  {
   "cell_type": "code",
   "execution_count": 34,
   "metadata": {},
   "outputs": [],
   "source": [
    "@typecheck\n",
    "def number_of_daily_vaccinations_received(locc:List[CompleteCountry])->List[float]:\n",
    "    \"\"\"\n",
    "    enter a list of country,return the data of summation of daily_vaccinations about ten specific countries\n",
    "    \"\"\"\n",
    "    #return []\n",
    "    #template from List[CompleteCountry]\n",
    "    #template based on arbitrary-sized, and the reference rule\n",
    "    #acc contains all data about cc.daily_vaccinations of a specific country\n",
    "    chi = 0 #type:float\n",
    "    ind = 0 #type:float\n",
    "    usa = 0 #type:float\n",
    "    indo = 0 #type:float\n",
    "    pak = 0 #type:float\n",
    "    bra = 0 #type:float\n",
    "    nig = 0 #type:float\n",
    "    ban = 0 #type:float\n",
    "    rus = 0 #type:float\n",
    "    mex = 0 #type:float\n",
    "    for cc in locc:\n",
    "        if read_specific_country1(cc):\n",
    "            chi = chi + cc_daily_vaccinations(cc)\n",
    "        elif read_specific_country2(cc):\n",
    "            ind = ind + cc_daily_vaccinations(cc)\n",
    "        elif read_specific_country3(cc):\n",
    "            usa = usa + cc_daily_vaccinations(cc)\n",
    "        elif read_specific_country4(cc):\n",
    "            indo = indo + cc_daily_vaccinations(cc)\n",
    "        elif read_specific_country5(cc):\n",
    "            pak = pak + cc_daily_vaccinations(cc)\n",
    "        elif read_specific_country6(cc):\n",
    "            bra = bra + cc_daily_vaccinations(cc)\n",
    "        elif read_specific_country7(cc):\n",
    "            nig = nig + cc_daily_vaccinations(cc)\n",
    "        elif read_specific_country8(cc):\n",
    "            ban = ban + cc_daily_vaccinations(cc)\n",
    "        elif read_specific_country9(cc):\n",
    "            rus = rus + cc_daily_vaccinations(cc)\n",
    "        elif read_specific_country10(cc):\n",
    "            mex = mex + cc_daily_vaccinations(cc)\n",
    "    return [chi,ind,usa,indo,pak,bra,nig,ban,rus,mex]"
   ]
  },
  {
   "cell_type": "code",
   "execution_count": 35,
   "metadata": {},
   "outputs": [],
   "source": [
    "import matplotlib.pyplot as plt\n",
    "import numpy as np\n",
    "\n",
    "@typecheck\n",
    "def draw_bar_chart(loc:List[Country])->None:\n",
    "    \"\"\"\n",
    "    display a bar chart showing the total vaccinations recieved in ten specific countries:\n",
    "    \"China\",\"India\",\"United States\",\"Indonesia\",\"Pakistan\",\"Brazil\",\"Nigeria\",\"Bangladesh\",\"Russia\",\"Mexico\"   \n",
    "    \"\"\"\n",
    "    x = np.array([\"China\",\"India\",\"United States\",\"Indonesia\",\"Pakistan\",\"Brazil\",\"Nigeria\",\"Bangladesh\",\"Russia\",\"Mexico\"])\n",
    "    y = np.array(number_of_daily_vaccinations_received(country_with_compl_data(loc)))\n",
    "    plt.bar(x,y,color=\"#32978C\")\n",
    "    plt.xlabel('Country')\n",
    "    plt.ylabel('Total Vaccinations')\n",
    "    plt.title('Total Vaccinations against Covid-19, July 27,2021')\n",
    "    plt.xticks(x, rotation ='vertical')\n",
    "    plt.show()\n",
    "    return"
   ]
  },
  {
   "cell_type": "code",
   "execution_count": 36,
   "metadata": {},
   "outputs": [],
   "source": [
    "@typecheck\n",
    "def main(filename: str) -> None:\n",
    "    \"\"\"\n",
    "    Reads the file from given filename, analyzes the data,\n",
    "    returns the result\n",
    "    \"\"\"\n",
    "    # Template from HtDAP, based on composition\n",
    "    return draw_bar_chart(read(filename))"
   ]
  },
  {
   "cell_type": "markdown",
   "metadata": {},
   "source": [
    "# Show Plot"
   ]
  },
  {
   "cell_type": "code",
   "execution_count": 37,
   "metadata": {},
   "outputs": [
    {
     "data": {
      "image/png": "[encoded data removed]",
      "text/plain": [
       "<Figure size 432x288 with 1 Axes>"
      ]
     },
     "metadata": {
      "needs_background": "light"
     },
     "output_type": "display_data"
    }
   ],
   "source": [
    "main('country_vaccinations.csv')"
   ]
  },
  {
   "cell_type": "code",
   "execution_count": 38,
   "metadata": {},
   "outputs": [
    {
     "data": {
      "image/png": "[encoded data removed]",
      "text/plain": [
       "<Figure size 432x288 with 1 Axes>"
      ]
     },
     "metadata": {
      "needs_background": "light"
     },
     "output_type": "display_data"
    },
    {
     "name": "stdout",
     "output_type": "stream",
     "text": [
      "\u001b[92m5 of 5 tests passed\u001b[0m\n"
     ]
    }
   ],
   "source": [
    "start_testing()\n",
    "\n",
    "# Examples and tests for main\n",
    "expect(main('country_vaccinations.csv'),None)\n",
    "\n",
    "# Examples and tests for read\n",
    "expect(read('country_vaccinations-test1.csv'),[Afghanistan,Andorra,Egypt])\n",
    "expect(read('country_vaccinations-test2.csv'),[Chad,Chile])\n",
    "expect(read('country_vaccinations-test3.csv'),[China,UnitedKingdom,UnitedStates,Zimbabwe])\n",
    "\n",
    "# Examples and tests for analyze\n",
    "expect(number_of_daily_vaccinations_received(country_with_compl_data(read('country_vaccinations.csv'))),\n",
    "[1521553644.0,\n",
    " 428314001.0,\n",
    " 340245911.0,\n",
    " 60971276.0,\n",
    " 24630605.0,\n",
    " 130784474.0,\n",
    " 3895487.0,\n",
    " 10282653.0,\n",
    " 56485888.0,\n",
    " 58168512.0])\n",
    "\n",
    "summary()  "
   ]
  },
  {
   "cell_type": "code",
   "execution_count": null,
   "metadata": {},
   "outputs": [],
   "source": []
  }
 ],
 "metadata": {
  "kernelspec": {
   "display_name": "Python 3",
   "language": "python",
   "name": "python3"
  },
  "language_info": {
   "codemirror_mode": {
    "name": "ipython",
    "version": 3
   },
   "file_extension": ".py",
   "mimetype": "text/x-python",
   "name": "python",
   "nbconvert_exporter": "python",
   "pygments_lexer": "ipython3",
   "version": "3.8.8"
  }
 },
 "nbformat": 4,
 "nbformat_minor": 4
}
